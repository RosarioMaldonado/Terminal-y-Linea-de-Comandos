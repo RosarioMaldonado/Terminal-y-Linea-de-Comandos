{
  "nbformat": 4,
  "nbformat_minor": 0,
  "metadata": {
    "colab": {
      "name": "Terminal y Línea de comandos.ipynb",
      "provenance": []
    },
    "kernelspec": {
      "name": "python3",
      "display_name": "Python 3"
    },
    "language_info": {
      "name": "python"
    }
  },
  "cells": [
    {
      "cell_type": "markdown",
      "source": [
        "### Introducción a la Terminal y Línea de Comandos"
      ],
      "metadata": {
        "id": "82tYmZ_a8eyC"
      }
    },
    {
      "cell_type": "markdown",
      "source": [
        "* La shell o línea de comandos es:\n",
        "      Un programa que nos ayuda a comunicarnos con nuestro sistema operativo.\n",
        "\n",
        "\n",
        "* ¿Qué hace el comando pwd?\n",
        "      Imprime la ruta del directorio actual de trabajo.\n",
        "\n",
        "\n",
        "* ¿Qué comando muestra las últimas 5 líneas de texto de un documento?\n",
        "      tail -n 5 mi_texto\n",
        "\n",
        "\n",
        "* Para leer el manual de usuario de un comando usamos:\n",
        "      man\n",
        "\n",
        "\n",
        "* Si queremos listar todos los archivos que sean extensiónh txt podemos usar el comando:\n",
        "      ls *.txt\n",
        "\n",
        "\n",
        "* El file descriptor correspondiente al stderr es:\n",
        "      2\n",
        "\n",
        "\n",
        "* ¿Qué operador nos ayuda a concatenar la salida de un comando a un archivo de texto?\n",
        "      >>\n",
        "\n",
        "\n",
        "* El pipe operador redirecciona la salida de un comando a la entrada de otro comando, esto es:\n",
        "      Verdadero\n",
        "\n",
        "\n",
        "* Si queremos explorar las primeras 100 líneas de un documento de texto lo podemos hacer con:\n",
        "      head -n 100 mi_texto | less\n",
        "\n",
        "\n",
        "* Si queremos correr una serie de comandos de manera asincrona lo hacemos con el operador:\n",
        "      &\n",
        "\n",
        "\n",
        "* Si deseamos condicionar la ejecución de un comando solo si uno anterior se ejecuto de manera exitosa podemos usar:\n",
        "      &&\n",
        "\n",
        "\n",
        "* El comando chmod u=rwx,go=r mi_archivo ¿qué permisos otorga?\n",
        "      Otorga permisos de lectura, escritura y ejecución al usuario. Solo otorga permiso de lectura a los grupos y a otros.\n",
        "\n",
        "\n",
        "* Es una mala práctica de seguridad asignar la siguiente configuración de permisos en modo octal a cualquier archivo o directorio.\n",
        "      777\n",
        "\n",
        "\n",
        "* Con el siguiente comando podemos ver la ruta del directorio Home de nuestro usuario:\n",
        "      echo $HOME\n",
        "\n",
        "\n",
        "* Para guardar todas muestras variables de entorno en un archivo de texto podemos ejecutar el comando:\n",
        "      env > environment.txt\n",
        "\n",
        "\n",
        "* Es un comando que nos ayuda a buscar la ruta de binarios o ejecutables en nuestro sistema.\n",
        "      which\n",
        "\n",
        "\n",
        "* Para buscar todas las imágenes png dentro de nuestra computadora podemos ejecutar:\n",
        "      find / -name *.png\n",
        "\n",
        "\n",
        "* Para usar grep sin distinción de mayúsculas o minúsculas usamos:\n",
        "      -i\n",
        "\n",
        "\n",
        "* ¿Qué comando nos ayudaconsultar la disponibilidad de un equipo en una red?\n",
        "      ping\n",
        "\n",
        "\n",
        "* ¿Qué comando muestra los procesos que consumen más recursos en nuestro sistema?\n",
        "      top\n",
        "      \n",
        "\n",
        "\n",
        "\n",
        "\n",
        "\n"
      ],
      "metadata": {
        "id": "uLG5SCIT8mDb"
      }
    }
  ]
}